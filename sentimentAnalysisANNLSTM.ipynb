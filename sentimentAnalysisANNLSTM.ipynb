{
 "cells": [
  {
   "cell_type": "markdown",
   "metadata": {},
   "source": [
    "# Import Important Library"
   ]
  },
  {
   "cell_type": "code",
   "execution_count": 8,
   "metadata": {},
   "outputs": [],
   "source": [
    "import pandas as pd #for reaed data\n",
    "import re #for text cleansing\n",
    "\n",
    "from nltk.corpus import stopwords #for clean stopwords\n",
    "\n",
    "#visualization\n",
    "import matplotlib.pyplot as plt\n",
    "import seaborn as sns \n",
    "\n",
    "#save model\n",
    "import pickle"
   ]
  },
  {
   "cell_type": "markdown",
   "metadata": {},
   "source": [
    "## Read Data"
   ]
  },
  {
   "cell_type": "code",
   "execution_count": 9,
   "metadata": {},
   "outputs": [
    {
     "data": {
      "text/html": [
       "<div>\n",
       "<style scoped>\n",
       "    .dataframe tbody tr th:only-of-type {\n",
       "        vertical-align: middle;\n",
       "    }\n",
       "\n",
       "    .dataframe tbody tr th {\n",
       "        vertical-align: top;\n",
       "    }\n",
       "\n",
       "    .dataframe thead th {\n",
       "        text-align: right;\n",
       "    }\n",
       "</style>\n",
       "<table border=\"1\" class=\"dataframe\">\n",
       "  <thead>\n",
       "    <tr style=\"text-align: right;\">\n",
       "      <th></th>\n",
       "      <th>text</th>\n",
       "      <th>label</th>\n",
       "    </tr>\n",
       "  </thead>\n",
       "  <tbody>\n",
       "    <tr>\n",
       "      <th>0</th>\n",
       "      <td>saya tadinya penasaran dengan tempat ini karen...</td>\n",
       "      <td>negative</td>\n",
       "    </tr>\n",
       "    <tr>\n",
       "      <th>1</th>\n",
       "      <td>kang , jalan di muararajeun baru , baru sebula...</td>\n",
       "      <td>negative</td>\n",
       "    </tr>\n",
       "    <tr>\n",
       "      <th>2</th>\n",
       "      <td>melihat itu kader demokrat ribut dengan pak hn...</td>\n",
       "      <td>negative</td>\n",
       "    </tr>\n",
       "    <tr>\n",
       "      <th>3</th>\n",
       "      <td>tak usah nonton film itu , bahasa jawa semua ....</td>\n",
       "      <td>negative</td>\n",
       "    </tr>\n",
       "    <tr>\n",
       "      <th>4</th>\n",
       "      <td>ini si monyet bawah gua , nama nya saja anonim...</td>\n",
       "      <td>negative</td>\n",
       "    </tr>\n",
       "  </tbody>\n",
       "</table>\n",
       "</div>"
      ],
      "text/plain": [
       "                                                text     label\n",
       "0  saya tadinya penasaran dengan tempat ini karen...  negative\n",
       "1  kang , jalan di muararajeun baru , baru sebula...  negative\n",
       "2  melihat itu kader demokrat ribut dengan pak hn...  negative\n",
       "3  tak usah nonton film itu , bahasa jawa semua ....  negative\n",
       "4  ini si monyet bawah gua , nama nya saja anonim...  negative"
      ]
     },
     "execution_count": 9,
     "metadata": {},
     "output_type": "execute_result"
    }
   ],
   "source": [
    "dfText = pd.read_csv('dataset/train_preprocess_-_BALANCE.tsv', sep='\\t', names=['text', 'label'])\n",
    "dfText.head()"
   ]
  },
  {
   "cell_type": "code",
   "execution_count": 10,
   "metadata": {},
   "outputs": [
    {
     "data": {
      "text/html": [
       "<div>\n",
       "<style scoped>\n",
       "    .dataframe tbody tr th:only-of-type {\n",
       "        vertical-align: middle;\n",
       "    }\n",
       "\n",
       "    .dataframe tbody tr th {\n",
       "        vertical-align: top;\n",
       "    }\n",
       "\n",
       "    .dataframe thead th {\n",
       "        text-align: right;\n",
       "    }\n",
       "</style>\n",
       "<table border=\"1\" class=\"dataframe\">\n",
       "  <thead>\n",
       "    <tr style=\"text-align: right;\">\n",
       "      <th></th>\n",
       "      <th>original</th>\n",
       "      <th>replacement</th>\n",
       "    </tr>\n",
       "  </thead>\n",
       "  <tbody>\n",
       "    <tr>\n",
       "      <th>0</th>\n",
       "      <td>anakjakartaasikasik</td>\n",
       "      <td>anak jakarta asyik asyik</td>\n",
       "    </tr>\n",
       "    <tr>\n",
       "      <th>1</th>\n",
       "      <td>pakcikdahtua</td>\n",
       "      <td>pak cik sudah tua</td>\n",
       "    </tr>\n",
       "    <tr>\n",
       "      <th>2</th>\n",
       "      <td>pakcikmudalagi</td>\n",
       "      <td>pak cik muda lagi</td>\n",
       "    </tr>\n",
       "    <tr>\n",
       "      <th>3</th>\n",
       "      <td>t3tapjokowi</td>\n",
       "      <td>tetap jokowi</td>\n",
       "    </tr>\n",
       "    <tr>\n",
       "      <th>4</th>\n",
       "      <td>3x</td>\n",
       "      <td>tiga kali</td>\n",
       "    </tr>\n",
       "    <tr>\n",
       "      <th>...</th>\n",
       "      <td>...</td>\n",
       "      <td>...</td>\n",
       "    </tr>\n",
       "    <tr>\n",
       "      <th>15162</th>\n",
       "      <td>mendikbud</td>\n",
       "      <td>menteri pendidikan dan kebudayaan</td>\n",
       "    </tr>\n",
       "    <tr>\n",
       "      <th>15163</th>\n",
       "      <td>mendag</td>\n",
       "      <td>menteri perdagangan</td>\n",
       "    </tr>\n",
       "    <tr>\n",
       "      <th>15164</th>\n",
       "      <td>menaker</td>\n",
       "      <td>menteri tenaga kerja</td>\n",
       "    </tr>\n",
       "    <tr>\n",
       "      <th>15165</th>\n",
       "      <td>memetwit</td>\n",
       "      <td>mentwit</td>\n",
       "    </tr>\n",
       "    <tr>\n",
       "      <th>15166</th>\n",
       "      <td>megangin</td>\n",
       "      <td>memegang</td>\n",
       "    </tr>\n",
       "  </tbody>\n",
       "</table>\n",
       "<p>15167 rows × 2 columns</p>\n",
       "</div>"
      ],
      "text/plain": [
       "                  original                        replacement\n",
       "0      anakjakartaasikasik           anak jakarta asyik asyik\n",
       "1             pakcikdahtua                  pak cik sudah tua\n",
       "2           pakcikmudalagi                  pak cik muda lagi\n",
       "3              t3tapjokowi                       tetap jokowi\n",
       "4                       3x                          tiga kali\n",
       "...                    ...                                ...\n",
       "15162            mendikbud  menteri pendidikan dan kebudayaan\n",
       "15163               mendag                menteri perdagangan\n",
       "15164              menaker               menteri tenaga kerja\n",
       "15165             memetwit                            mentwit\n",
       "15166             megangin                           memegang\n",
       "\n",
       "[15167 rows x 2 columns]"
      ]
     },
     "execution_count": 10,
     "metadata": {},
     "output_type": "execute_result"
    }
   ],
   "source": [
    "dfAlay = pd.read_csv('dataset/new_kamusalay.csv', encoding='latin-1', names=['original', 'replacement'])\n",
    "dfAlay"
   ]
  },
  {
   "cell_type": "code",
   "execution_count": 11,
   "metadata": {},
   "outputs": [
    {
     "data": {
      "text/html": [
       "<div>\n",
       "<style scoped>\n",
       "    .dataframe tbody tr th:only-of-type {\n",
       "        vertical-align: middle;\n",
       "    }\n",
       "\n",
       "    .dataframe tbody tr th {\n",
       "        vertical-align: top;\n",
       "    }\n",
       "\n",
       "    .dataframe thead th {\n",
       "        text-align: right;\n",
       "    }\n",
       "</style>\n",
       "<table border=\"1\" class=\"dataframe\">\n",
       "  <thead>\n",
       "    <tr style=\"text-align: right;\">\n",
       "      <th></th>\n",
       "      <th>stopword</th>\n",
       "    </tr>\n",
       "  </thead>\n",
       "  <tbody>\n",
       "    <tr>\n",
       "      <th>0</th>\n",
       "      <td>gue</td>\n",
       "    </tr>\n",
       "    <tr>\n",
       "      <th>1</th>\n",
       "      <td>gua</td>\n",
       "    </tr>\n",
       "    <tr>\n",
       "      <th>2</th>\n",
       "      <td>ya</td>\n",
       "    </tr>\n",
       "    <tr>\n",
       "      <th>3</th>\n",
       "      <td>yg</td>\n",
       "    </tr>\n",
       "    <tr>\n",
       "      <th>4</th>\n",
       "      <td>ga</td>\n",
       "    </tr>\n",
       "    <tr>\n",
       "      <th>...</th>\n",
       "      <td>...</td>\n",
       "    </tr>\n",
       "    <tr>\n",
       "      <th>782</th>\n",
       "      <td>wong</td>\n",
       "    </tr>\n",
       "    <tr>\n",
       "      <th>783</th>\n",
       "      <td>yaitu</td>\n",
       "    </tr>\n",
       "    <tr>\n",
       "      <th>784</th>\n",
       "      <td>yakin</td>\n",
       "    </tr>\n",
       "    <tr>\n",
       "      <th>785</th>\n",
       "      <td>yakni</td>\n",
       "    </tr>\n",
       "    <tr>\n",
       "      <th>786</th>\n",
       "      <td>yang</td>\n",
       "    </tr>\n",
       "  </tbody>\n",
       "</table>\n",
       "<p>787 rows × 1 columns</p>\n",
       "</div>"
      ],
      "text/plain": [
       "    stopword\n",
       "0        gue\n",
       "1        gua\n",
       "2         ya\n",
       "3         yg\n",
       "4         ga\n",
       "..       ...\n",
       "782     wong\n",
       "783    yaitu\n",
       "784    yakin\n",
       "785    yakni\n",
       "786     yang\n",
       "\n",
       "[787 rows x 1 columns]"
      ]
     },
     "execution_count": 11,
     "metadata": {},
     "output_type": "execute_result"
    }
   ],
   "source": [
    "dfStopWord = pd.read_csv('dataset/stopwordbahasa.csv', names=['stopword'])\n",
    "dfStopWord"
   ]
  },
  {
   "cell_type": "markdown",
   "metadata": {},
   "source": [
    "# Cleansing Text"
   ]
  },
  {
   "cell_type": "code",
   "execution_count": 12,
   "metadata": {},
   "outputs": [],
   "source": [
    "# remove kata alay\n",
    "def normalize_alay(text):\n",
    "    alay_dict_map = dict(zip(dfAlay['original'], dfAlay['replacement']))\n",
    "    return ' '.join([alay_dict_map[word] if word in alay_dict_map else word for word in text.split(' ')])\n",
    "\n",
    "# remove punctuation\n",
    "def remove_punctuation(text):\n",
    "    return re.sub(r'[^\\w\\s]',' ',text)\n",
    "\n",
    "# remove stopword\n",
    "def remove_stopword(text):\n",
    "    stopword_list = set(stopwords.words('indonesian'))\n",
    "    return ' '.join([word for word in text.split(' ') if word not in stopword_list])"
   ]
  },
  {
   "cell_type": "code",
   "execution_count": 13,
   "metadata": {},
   "outputs": [],
   "source": [
    "def preprocess(text):\n",
    "    text = normalize_alay(text)\n",
    "    text = remove_punctuation(text)\n",
    "    text = remove_stopword(text)\n",
    "    return text"
   ]
  },
  {
   "cell_type": "code",
   "execution_count": 14,
   "metadata": {},
   "outputs": [
    {
     "data": {
      "text/html": [
       "<div>\n",
       "<style scoped>\n",
       "    .dataframe tbody tr th:only-of-type {\n",
       "        vertical-align: middle;\n",
       "    }\n",
       "\n",
       "    .dataframe tbody tr th {\n",
       "        vertical-align: top;\n",
       "    }\n",
       "\n",
       "    .dataframe thead th {\n",
       "        text-align: right;\n",
       "    }\n",
       "</style>\n",
       "<table border=\"1\" class=\"dataframe\">\n",
       "  <thead>\n",
       "    <tr style=\"text-align: right;\">\n",
       "      <th></th>\n",
       "      <th>text</th>\n",
       "      <th>label</th>\n",
       "    </tr>\n",
       "  </thead>\n",
       "  <tbody>\n",
       "    <tr>\n",
       "      <th>0</th>\n",
       "      <td>penasaran nya foto foto kunjungan artis pas pe...</td>\n",
       "      <td>negative</td>\n",
       "    </tr>\n",
       "    <tr>\n",
       "      <th>1</th>\n",
       "      <td>kang   jalan muararajeun   sebulanan dibenarka...</td>\n",
       "      <td>negative</td>\n",
       "    </tr>\n",
       "    <tr>\n",
       "      <th>2</th>\n",
       "      <td>kader demokrat ribut hnw partai keadilan sejah...</td>\n",
       "      <td>negative</td>\n",
       "    </tr>\n",
       "    <tr>\n",
       "      <th>3</th>\n",
       "      <td>menonton film   bahasa jawa   mengerti   teks ...</td>\n",
       "      <td>negative</td>\n",
       "    </tr>\n",
       "    <tr>\n",
       "      <th>4</th>\n",
       "      <td>sih monyet gue   nama nya anonim pengecut paka...</td>\n",
       "      <td>negative</td>\n",
       "    </tr>\n",
       "    <tr>\n",
       "      <th>...</th>\n",
       "      <td>...</td>\n",
       "      <td>...</td>\n",
       "    </tr>\n",
       "    <tr>\n",
       "      <th>10195</th>\n",
       "      <td>mereka mempertahankan spesifikasi dasar model ...</td>\n",
       "      <td>neutral</td>\n",
       "    </tr>\n",
       "    <tr>\n",
       "      <th>10196</th>\n",
       "      <td>mereka mempertahankan kejuaraan  memenangkan k...</td>\n",
       "      <td>neutral</td>\n",
       "    </tr>\n",
       "    <tr>\n",
       "      <th>10197</th>\n",
       "      <td>mereka mempertahankan gelar juara 2016  mengal...</td>\n",
       "      <td>neutral</td>\n",
       "    </tr>\n",
       "    <tr>\n",
       "      <th>10198</th>\n",
       "      <td>mereka mempertahankan kemerdekaan administrati...</td>\n",
       "      <td>neutral</td>\n",
       "    </tr>\n",
       "    <tr>\n",
       "      <th>10199</th>\n",
       "      <td>mereka mempertahankan keanggotaan movie tome t...</td>\n",
       "      <td>neutral</td>\n",
       "    </tr>\n",
       "  </tbody>\n",
       "</table>\n",
       "<p>10200 rows × 2 columns</p>\n",
       "</div>"
      ],
      "text/plain": [
       "                                                    text     label\n",
       "0      penasaran nya foto foto kunjungan artis pas pe...  negative\n",
       "1      kang   jalan muararajeun   sebulanan dibenarka...  negative\n",
       "2      kader demokrat ribut hnw partai keadilan sejah...  negative\n",
       "3      menonton film   bahasa jawa   mengerti   teks ...  negative\n",
       "4      sih monyet gue   nama nya anonim pengecut paka...  negative\n",
       "...                                                  ...       ...\n",
       "10195  mereka mempertahankan spesifikasi dasar model ...   neutral\n",
       "10196  mereka mempertahankan kejuaraan  memenangkan k...   neutral\n",
       "10197  mereka mempertahankan gelar juara 2016  mengal...   neutral\n",
       "10198  mereka mempertahankan kemerdekaan administrati...   neutral\n",
       "10199  mereka mempertahankan keanggotaan movie tome t...   neutral\n",
       "\n",
       "[10200 rows x 2 columns]"
      ]
     },
     "execution_count": 14,
     "metadata": {},
     "output_type": "execute_result"
    }
   ],
   "source": [
    "dfText['text'] = dfText['text'].apply(preprocess)\n",
    "dfText['text'] = dfText['text'].str.lower()\n",
    "dfText"
   ]
  },
  {
   "cell_type": "code",
   "execution_count": 15,
   "metadata": {},
   "outputs": [
    {
     "data": {
      "text/plain": [
       "0        2\n",
       "1        2\n",
       "2        2\n",
       "3        2\n",
       "4        2\n",
       "        ..\n",
       "10195    0\n",
       "10196    0\n",
       "10197    0\n",
       "10198    0\n",
       "10199    0\n",
       "Name: label, Length: 10200, dtype: int64"
      ]
     },
     "execution_count": 15,
     "metadata": {},
     "output_type": "execute_result"
    }
   ],
   "source": [
    "dictLabel = {'neutral' : 0, 'positive' : 1, 'negative' : 2}\n",
    "dfText['label'] = dfText['label'].map(dictLabel)\n",
    "dfText['label']"
   ]
  },
  {
   "cell_type": "markdown",
   "metadata": {},
   "source": [
    "# EDA"
   ]
  },
  {
   "cell_type": "markdown",
   "metadata": {},
   "source": [
    "## Check Info Data"
   ]
  },
  {
   "cell_type": "code",
   "execution_count": 16,
   "metadata": {},
   "outputs": [
    {
     "data": {
      "text/plain": [
       "10200"
      ]
     },
     "execution_count": 16,
     "metadata": {},
     "output_type": "execute_result"
    }
   ],
   "source": [
    "len(dfText)"
   ]
  },
  {
   "cell_type": "code",
   "execution_count": 17,
   "metadata": {},
   "outputs": [
    {
     "name": "stdout",
     "output_type": "stream",
     "text": [
      "<class 'pandas.core.frame.DataFrame'>\n",
      "RangeIndex: 10200 entries, 0 to 10199\n",
      "Data columns (total 2 columns):\n",
      " #   Column  Non-Null Count  Dtype \n",
      "---  ------  --------------  ----- \n",
      " 0   text    10200 non-null  object\n",
      " 1   label   10200 non-null  int64 \n",
      "dtypes: int64(1), object(1)\n",
      "memory usage: 159.5+ KB\n"
     ]
    }
   ],
   "source": [
    "dfText.info()"
   ]
  },
  {
   "cell_type": "code",
   "execution_count": 18,
   "metadata": {},
   "outputs": [
    {
     "data": {
      "text/plain": [
       "text     0\n",
       "label    0\n",
       "dtype: int64"
      ]
     },
     "execution_count": 18,
     "metadata": {},
     "output_type": "execute_result"
    }
   ],
   "source": [
    "dfText.isnull().sum()"
   ]
  },
  {
   "attachments": {},
   "cell_type": "markdown",
   "metadata": {},
   "source": [
    "# Tf-idf Transformer"
   ]
  },
  {
   "cell_type": "code",
   "execution_count": 19,
   "metadata": {},
   "outputs": [],
   "source": [
    "from sklearn.feature_extraction.text import CountVectorizer\n",
    "from sklearn.feature_extraction.text import TfidfTransformer\n",
    "from keras_preprocessing.sequence import pad_sequences"
   ]
  },
  {
   "cell_type": "code",
   "execution_count": 20,
   "metadata": {},
   "outputs": [],
   "source": [
    "count_vect = CountVectorizer()\n",
    "X_train_counts = count_vect.fit_transform(dfText['text'])\n",
    "X_train_counts.shape\n",
    "\n",
    "with open('models/count_vect.pkl', 'wb') as f:\n",
    "    pickle.dump(count_vect, f)"
   ]
  },
  {
   "cell_type": "code",
   "execution_count": 21,
   "metadata": {},
   "outputs": [],
   "source": [
    "tf_tranformer =TfidfTransformer(smooth_idf=True,use_idf=True).fit(X_train_counts)\n",
    "X_train_tf = tf_tranformer.transform(X_train_counts).toarray()\n",
    "X_train_tf.shape\n",
    "\n",
    "with open('models/tf_tranformer.pkl', 'wb') as f:\n",
    "    pickle.dump(tf_tranformer, f)"
   ]
  },
  {
   "cell_type": "markdown",
   "metadata": {},
   "source": [
    "# Tokenization and Change Label to Categorical"
   ]
  },
  {
   "cell_type": "code",
   "execution_count": 22,
   "metadata": {},
   "outputs": [],
   "source": [
    "from keras.preprocessing.text import Tokenizer\n",
    "from keras_preprocessing.sequence import pad_sequences"
   ]
  },
  {
   "cell_type": "code",
   "execution_count": 23,
   "metadata": {},
   "outputs": [],
   "source": [
    "arrayLabel = dfText['label'].to_numpy()"
   ]
  },
  {
   "cell_type": "code",
   "execution_count": 24,
   "metadata": {},
   "outputs": [],
   "source": [
    "import tensorflow as tf\n",
    "\n",
    "labels = tf.keras.utils.to_categorical(arrayLabel, 3, dtype=\"float32\")"
   ]
  },
  {
   "cell_type": "code",
   "execution_count": 25,
   "metadata": {},
   "outputs": [
    {
     "data": {
      "text/plain": [
       "10200"
      ]
     },
     "execution_count": 25,
     "metadata": {},
     "output_type": "execute_result"
    }
   ],
   "source": [
    "len(labels)"
   ]
  },
  {
   "cell_type": "code",
   "execution_count": 26,
   "metadata": {},
   "outputs": [
    {
     "name": "stdout",
     "output_type": "stream",
     "text": [
      "(10200, 200)\n"
     ]
    }
   ],
   "source": [
    "max_words = 10200\n",
    "max_len = 200\n",
    "\n",
    "tokenizer = Tokenizer(num_words=max_words)\n",
    "tokenizer.fit_on_texts(dfText['text'])\n",
    "word_index = tokenizer.word_index\n",
    "sequences = tokenizer.texts_to_sequences(dfText['text'])\n",
    "text = pad_sequences(sequences, maxlen=max_len)\n",
    "print(text.shape)\n",
    "\n",
    "with open('models/tokenizer.pkl', 'wb') as f:\n",
    "    pickle.dump(tokenizer, f)"
   ]
  },
  {
   "cell_type": "code",
   "execution_count": 27,
   "metadata": {},
   "outputs": [
    {
     "name": "stdout",
     "output_type": "stream",
     "text": [
      "<class 'numpy.ndarray'>\n"
     ]
    }
   ],
   "source": [
    "print(type(text))"
   ]
  },
  {
   "attachments": {},
   "cell_type": "markdown",
   "metadata": {},
   "source": [
    "# Training"
   ]
  },
  {
   "cell_type": "code",
   "execution_count": 28,
   "metadata": {},
   "outputs": [],
   "source": [
    "from keras.models import Sequential, load_model\n",
    "from keras import layers\n",
    "from keras.optimizers import RMSprop,Adam   \n",
    "from keras.preprocessing.text import Tokenizer\n",
    "from keras_preprocessing.sequence import pad_sequences\n",
    "from keras import regularizers\n",
    "from keras import backend as K\n",
    "from keras.callbacks import ModelCheckpoint"
   ]
  },
  {
   "attachments": {},
   "cell_type": "markdown",
   "metadata": {},
   "source": [
    "## Split Data"
   ]
  },
  {
   "cell_type": "code",
   "execution_count": 29,
   "metadata": {},
   "outputs": [
    {
     "name": "stdout",
     "output_type": "stream",
     "text": [
      "7650 2550 7650 2550\n"
     ]
    }
   ],
   "source": [
    "# split tfidftransformers data\n",
    "from sklearn.model_selection import train_test_split\n",
    "\n",
    "X_train_transf, X_test_transf, y_train_transf, y_test_transf = train_test_split(X_train_tf,labels, random_state=0)\n",
    "print(len(X_train_transf),len(X_test_transf),len(y_train_transf),len(y_test_transf))"
   ]
  },
  {
   "cell_type": "code",
   "execution_count": 30,
   "metadata": {},
   "outputs": [
    {
     "name": "stdout",
     "output_type": "stream",
     "text": [
      "7650 2550 7650 2550\n"
     ]
    }
   ],
   "source": [
    "# split tokenization data\n",
    "from sklearn.model_selection import train_test_split\n",
    "\n",
    "X_train_token, X_test_token, y_train_token, y_test_token = train_test_split(text,labels, random_state=0)\n",
    "print(len(X_train_token),len(X_test_token),len(y_train_token),len(y_test_token))"
   ]
  },
  {
   "cell_type": "markdown",
   "metadata": {},
   "source": [
    "## LSTM"
   ]
  },
  {
   "cell_type": "code",
   "execution_count": 24,
   "metadata": {},
   "outputs": [
    {
     "name": "stdout",
     "output_type": "stream",
     "text": [
      "WARNING:tensorflow:`period` argument is deprecated. Please use `save_freq` to specify the frequency in number of batches seen.\n",
      "Epoch 1/70\n",
      "240/240 [==============================] - ETA: 0s - loss: 0.8267 - accuracy: 0.6230\n",
      "Epoch 1: val_accuracy improved from -inf to 0.75686, saving model to best_model1.hdf5\n",
      "240/240 [==============================] - 19s 68ms/step - loss: 0.8267 - accuracy: 0.6230 - val_loss: 0.6256 - val_accuracy: 0.7569\n",
      "Epoch 2/70\n",
      "240/240 [==============================] - ETA: 0s - loss: 0.4998 - accuracy: 0.8182\n",
      "Epoch 2: val_accuracy improved from 0.75686 to 0.81412, saving model to best_model1.hdf5\n",
      "240/240 [==============================] - 13s 56ms/step - loss: 0.4998 - accuracy: 0.8182 - val_loss: 0.4772 - val_accuracy: 0.8141\n",
      "Epoch 3/70\n",
      "240/240 [==============================] - ETA: 0s - loss: 0.3852 - accuracy: 0.8647\n",
      "Epoch 3: val_accuracy improved from 0.81412 to 0.84118, saving model to best_model1.hdf5\n",
      "240/240 [==============================] - 14s 57ms/step - loss: 0.3852 - accuracy: 0.8647 - val_loss: 0.4181 - val_accuracy: 0.8412\n",
      "Epoch 4/70\n",
      "240/240 [==============================] - ETA: 0s - loss: 0.3034 - accuracy: 0.8918\n",
      "Epoch 4: val_accuracy improved from 0.84118 to 0.85529, saving model to best_model1.hdf5\n",
      "240/240 [==============================] - 12s 48ms/step - loss: 0.3034 - accuracy: 0.8918 - val_loss: 0.3817 - val_accuracy: 0.8553\n",
      "Epoch 5/70\n",
      "240/240 [==============================] - ETA: 0s - loss: 0.2360 - accuracy: 0.9174\n",
      "Epoch 5: val_accuracy improved from 0.85529 to 0.86471, saving model to best_model1.hdf5\n",
      "240/240 [==============================] - 12s 48ms/step - loss: 0.2360 - accuracy: 0.9174 - val_loss: 0.3698 - val_accuracy: 0.8647\n",
      "Epoch 6/70\n",
      "240/240 [==============================] - ETA: 0s - loss: 0.1908 - accuracy: 0.9335\n",
      "Epoch 6: val_accuracy improved from 0.86471 to 0.86588, saving model to best_model1.hdf5\n",
      "240/240 [==============================] - 15s 64ms/step - loss: 0.1908 - accuracy: 0.9335 - val_loss: 0.3875 - val_accuracy: 0.8659\n",
      "Epoch 7/70\n",
      "239/240 [============================>.] - ETA: 0s - loss: 0.1554 - accuracy: 0.9464\n",
      "Epoch 7: val_accuracy improved from 0.86588 to 0.86667, saving model to best_model1.hdf5\n",
      "240/240 [==============================] - 12s 50ms/step - loss: 0.1553 - accuracy: 0.9464 - val_loss: 0.3795 - val_accuracy: 0.8667\n",
      "Epoch 8/70\n",
      "239/240 [============================>.] - ETA: 0s - loss: 0.1285 - accuracy: 0.9544\n",
      "Epoch 8: val_accuracy improved from 0.86667 to 0.86902, saving model to best_model1.hdf5\n",
      "240/240 [==============================] - 11s 47ms/step - loss: 0.1285 - accuracy: 0.9544 - val_loss: 0.4011 - val_accuracy: 0.8690\n",
      "Epoch 9/70\n",
      "240/240 [==============================] - ETA: 0s - loss: 0.1096 - accuracy: 0.9608\n",
      "Epoch 9: val_accuracy did not improve from 0.86902\n",
      "240/240 [==============================] - 18s 74ms/step - loss: 0.1096 - accuracy: 0.9608 - val_loss: 0.4205 - val_accuracy: 0.8682\n",
      "Epoch 10/70\n",
      "240/240 [==============================] - ETA: 0s - loss: 0.0965 - accuracy: 0.9664\n",
      "Epoch 10: val_accuracy did not improve from 0.86902\n",
      "240/240 [==============================] - 19s 80ms/step - loss: 0.0965 - accuracy: 0.9664 - val_loss: 0.4598 - val_accuracy: 0.8639\n",
      "Epoch 11/70\n",
      "240/240 [==============================] - ETA: 0s - loss: 0.0817 - accuracy: 0.9710\n",
      "Epoch 11: val_accuracy did not improve from 0.86902\n",
      "240/240 [==============================] - 16s 67ms/step - loss: 0.0817 - accuracy: 0.9710 - val_loss: 0.4915 - val_accuracy: 0.8620\n",
      "Epoch 12/70\n",
      "240/240 [==============================] - ETA: 0s - loss: 0.0793 - accuracy: 0.9722\n",
      "Epoch 12: val_accuracy did not improve from 0.86902\n",
      "240/240 [==============================] - 18s 75ms/step - loss: 0.0793 - accuracy: 0.9722 - val_loss: 0.5022 - val_accuracy: 0.8604\n",
      "Epoch 13/70\n",
      "240/240 [==============================] - ETA: 0s - loss: 0.0660 - accuracy: 0.9774\n",
      "Epoch 13: val_accuracy did not improve from 0.86902\n",
      "240/240 [==============================] - 15s 64ms/step - loss: 0.0660 - accuracy: 0.9774 - val_loss: 0.5421 - val_accuracy: 0.8620\n",
      "Epoch 14/70\n",
      "239/240 [============================>.] - ETA: 0s - loss: 0.0619 - accuracy: 0.9761\n",
      "Epoch 14: val_accuracy did not improve from 0.86902\n",
      "240/240 [==============================] - 12s 50ms/step - loss: 0.0620 - accuracy: 0.9761 - val_loss: 0.5459 - val_accuracy: 0.8596\n",
      "Epoch 15/70\n",
      "239/240 [============================>.] - ETA: 0s - loss: 0.0556 - accuracy: 0.9797\n",
      "Epoch 15: val_accuracy did not improve from 0.86902\n",
      "240/240 [==============================] - 12s 49ms/step - loss: 0.0556 - accuracy: 0.9797 - val_loss: 0.5672 - val_accuracy: 0.8604\n",
      "Epoch 16/70\n",
      "239/240 [============================>.] - ETA: 0s - loss: 0.0493 - accuracy: 0.9805\n",
      "Epoch 16: val_accuracy did not improve from 0.86902\n",
      "240/240 [==============================] - 12s 48ms/step - loss: 0.0493 - accuracy: 0.9805 - val_loss: 0.6294 - val_accuracy: 0.8549\n",
      "Epoch 17/70\n",
      "240/240 [==============================] - ETA: 0s - loss: 0.0547 - accuracy: 0.9790\n",
      "Epoch 17: val_accuracy did not improve from 0.86902\n",
      "240/240 [==============================] - 12s 48ms/step - loss: 0.0547 - accuracy: 0.9790 - val_loss: 0.6114 - val_accuracy: 0.8576\n",
      "Epoch 18/70\n",
      "239/240 [============================>.] - ETA: 0s - loss: 0.0474 - accuracy: 0.9829\n",
      "Epoch 18: val_accuracy did not improve from 0.86902\n",
      "240/240 [==============================] - 15s 62ms/step - loss: 0.0474 - accuracy: 0.9829 - val_loss: 0.6336 - val_accuracy: 0.8478\n",
      "Epoch 19/70\n",
      "239/240 [============================>.] - ETA: 0s - loss: 0.0494 - accuracy: 0.9817\n",
      "Epoch 19: val_accuracy did not improve from 0.86902\n",
      "240/240 [==============================] - 13s 55ms/step - loss: 0.0494 - accuracy: 0.9817 - val_loss: 0.6046 - val_accuracy: 0.8533\n",
      "Epoch 20/70\n",
      "240/240 [==============================] - ETA: 0s - loss: 0.0429 - accuracy: 0.9830\n",
      "Epoch 20: val_accuracy did not improve from 0.86902\n",
      "240/240 [==============================] - 14s 57ms/step - loss: 0.0429 - accuracy: 0.9830 - val_loss: 0.6646 - val_accuracy: 0.8518\n",
      "Epoch 21/70\n",
      "240/240 [==============================] - ETA: 0s - loss: 0.0397 - accuracy: 0.9833\n",
      "Epoch 21: val_accuracy did not improve from 0.86902\n",
      "240/240 [==============================] - 12s 49ms/step - loss: 0.0397 - accuracy: 0.9833 - val_loss: 0.6366 - val_accuracy: 0.8498\n",
      "Epoch 22/70\n",
      "239/240 [============================>.] - ETA: 0s - loss: 0.0401 - accuracy: 0.9857\n",
      "Epoch 22: val_accuracy did not improve from 0.86902\n",
      "240/240 [==============================] - 12s 52ms/step - loss: 0.0401 - accuracy: 0.9858 - val_loss: 0.6764 - val_accuracy: 0.8580\n",
      "Epoch 23/70\n",
      "240/240 [==============================] - ETA: 0s - loss: 0.0365 - accuracy: 0.9852\n",
      "Epoch 23: val_accuracy did not improve from 0.86902\n",
      "240/240 [==============================] - 14s 60ms/step - loss: 0.0365 - accuracy: 0.9852 - val_loss: 0.6989 - val_accuracy: 0.8592\n",
      "Epoch 24/70\n",
      "240/240 [==============================] - ETA: 0s - loss: 0.0373 - accuracy: 0.9842\n",
      "Epoch 24: val_accuracy did not improve from 0.86902\n",
      "240/240 [==============================] - 23s 96ms/step - loss: 0.0373 - accuracy: 0.9842 - val_loss: 0.6631 - val_accuracy: 0.8580\n",
      "Epoch 25/70\n",
      "239/240 [============================>.] - ETA: 0s - loss: 0.0383 - accuracy: 0.9852\n",
      "Epoch 25: val_accuracy did not improve from 0.86902\n",
      "240/240 [==============================] - 16s 66ms/step - loss: 0.0383 - accuracy: 0.9852 - val_loss: 0.7121 - val_accuracy: 0.8569\n",
      "Epoch 26/70\n",
      "240/240 [==============================] - ETA: 0s - loss: 0.0362 - accuracy: 0.9844\n",
      "Epoch 26: val_accuracy did not improve from 0.86902\n",
      "240/240 [==============================] - 17s 73ms/step - loss: 0.0362 - accuracy: 0.9844 - val_loss: 0.7314 - val_accuracy: 0.8545\n",
      "Epoch 27/70\n",
      "240/240 [==============================] - ETA: 0s - loss: 0.0338 - accuracy: 0.9865\n",
      "Epoch 27: val_accuracy did not improve from 0.86902\n",
      "240/240 [==============================] - 14s 58ms/step - loss: 0.0338 - accuracy: 0.9865 - val_loss: 0.7189 - val_accuracy: 0.8553\n",
      "Epoch 28/70\n",
      "240/240 [==============================] - ETA: 0s - loss: 0.0291 - accuracy: 0.9880\n",
      "Epoch 28: val_accuracy did not improve from 0.86902\n",
      "240/240 [==============================] - 15s 64ms/step - loss: 0.0291 - accuracy: 0.9880 - val_loss: 0.7756 - val_accuracy: 0.8537\n",
      "Epoch 29/70\n",
      "239/240 [============================>.] - ETA: 0s - loss: 0.0336 - accuracy: 0.9865\n",
      "Epoch 29: val_accuracy did not improve from 0.86902\n",
      "240/240 [==============================] - 13s 56ms/step - loss: 0.0336 - accuracy: 0.9865 - val_loss: 0.7218 - val_accuracy: 0.8565\n",
      "Epoch 30/70\n",
      "239/240 [============================>.] - ETA: 0s - loss: 0.0293 - accuracy: 0.9889\n",
      "Epoch 30: val_accuracy did not improve from 0.86902\n",
      "240/240 [==============================] - 13s 53ms/step - loss: 0.0293 - accuracy: 0.9889 - val_loss: 0.7347 - val_accuracy: 0.8557\n",
      "Epoch 31/70\n",
      "240/240 [==============================] - ETA: 0s - loss: 0.0285 - accuracy: 0.9868\n",
      "Epoch 31: val_accuracy did not improve from 0.86902\n",
      "240/240 [==============================] - 12s 50ms/step - loss: 0.0285 - accuracy: 0.9868 - val_loss: 0.7808 - val_accuracy: 0.8529\n",
      "Epoch 32/70\n",
      "240/240 [==============================] - ETA: 0s - loss: 0.0337 - accuracy: 0.9873\n",
      "Epoch 32: val_accuracy did not improve from 0.86902\n",
      "240/240 [==============================] - 12s 50ms/step - loss: 0.0337 - accuracy: 0.9873 - val_loss: 0.7894 - val_accuracy: 0.8522\n",
      "Epoch 33/70\n",
      "240/240 [==============================] - ETA: 0s - loss: 0.0272 - accuracy: 0.9890\n",
      "Epoch 33: val_accuracy did not improve from 0.86902\n",
      "240/240 [==============================] - 12s 50ms/step - loss: 0.0272 - accuracy: 0.9890 - val_loss: 0.7950 - val_accuracy: 0.8482\n",
      "Epoch 34/70\n",
      "239/240 [============================>.] - ETA: 0s - loss: 0.0257 - accuracy: 0.9884\n",
      "Epoch 34: val_accuracy did not improve from 0.86902\n",
      "240/240 [==============================] - 12s 49ms/step - loss: 0.0257 - accuracy: 0.9884 - val_loss: 0.8151 - val_accuracy: 0.8514\n",
      "Epoch 35/70\n",
      "239/240 [============================>.] - ETA: 0s - loss: 0.0278 - accuracy: 0.9882\n",
      "Epoch 35: val_accuracy did not improve from 0.86902\n",
      "240/240 [==============================] - 13s 53ms/step - loss: 0.0278 - accuracy: 0.9882 - val_loss: 0.7689 - val_accuracy: 0.8463\n",
      "Epoch 36/70\n",
      "239/240 [============================>.] - ETA: 0s - loss: 0.0291 - accuracy: 0.9871\n",
      "Epoch 36: val_accuracy did not improve from 0.86902\n",
      "240/240 [==============================] - 12s 50ms/step - loss: 0.0291 - accuracy: 0.9871 - val_loss: 0.8090 - val_accuracy: 0.8545\n",
      "Epoch 37/70\n",
      "240/240 [==============================] - ETA: 0s - loss: 0.0247 - accuracy: 0.9881\n",
      "Epoch 37: val_accuracy did not improve from 0.86902\n",
      "240/240 [==============================] - 12s 50ms/step - loss: 0.0247 - accuracy: 0.9881 - val_loss: 0.8346 - val_accuracy: 0.8522\n",
      "Epoch 38/70\n",
      "240/240 [==============================] - ETA: 0s - loss: 0.0276 - accuracy: 0.9880\n",
      "Epoch 38: val_accuracy did not improve from 0.86902\n",
      "240/240 [==============================] - 12s 49ms/step - loss: 0.0276 - accuracy: 0.9880 - val_loss: 0.7823 - val_accuracy: 0.8510\n",
      "Epoch 39/70\n",
      "240/240 [==============================] - ETA: 0s - loss: 0.0285 - accuracy: 0.9878\n",
      "Epoch 39: val_accuracy did not improve from 0.86902\n",
      "240/240 [==============================] - 12s 49ms/step - loss: 0.0285 - accuracy: 0.9878 - val_loss: 0.7857 - val_accuracy: 0.8557\n",
      "Epoch 40/70\n",
      "239/240 [============================>.] - ETA: 0s - loss: 0.0233 - accuracy: 0.9905\n",
      "Epoch 40: val_accuracy did not improve from 0.86902\n",
      "240/240 [==============================] - 13s 54ms/step - loss: 0.0233 - accuracy: 0.9905 - val_loss: 0.8052 - val_accuracy: 0.8584\n",
      "Epoch 41/70\n",
      "239/240 [============================>.] - ETA: 0s - loss: 0.0245 - accuracy: 0.9890\n",
      "Epoch 41: val_accuracy did not improve from 0.86902\n",
      "240/240 [==============================] - 12s 49ms/step - loss: 0.0245 - accuracy: 0.9890 - val_loss: 0.8137 - val_accuracy: 0.8545\n",
      "Epoch 42/70\n",
      "240/240 [==============================] - ETA: 0s - loss: 0.0239 - accuracy: 0.9903\n",
      "Epoch 42: val_accuracy did not improve from 0.86902\n",
      "240/240 [==============================] - 18s 73ms/step - loss: 0.0239 - accuracy: 0.9903 - val_loss: 0.8871 - val_accuracy: 0.8529\n",
      "Epoch 43/70\n",
      "239/240 [============================>.] - ETA: 0s - loss: 0.0261 - accuracy: 0.9891\n",
      "Epoch 43: val_accuracy did not improve from 0.86902\n",
      "240/240 [==============================] - 15s 62ms/step - loss: 0.0261 - accuracy: 0.9892 - val_loss: 0.8084 - val_accuracy: 0.8510\n",
      "Epoch 44/70\n",
      "240/240 [==============================] - ETA: 0s - loss: 0.0237 - accuracy: 0.9903\n",
      "Epoch 44: val_accuracy did not improve from 0.86902\n",
      "240/240 [==============================] - 13s 55ms/step - loss: 0.0237 - accuracy: 0.9903 - val_loss: 0.8617 - val_accuracy: 0.8498\n",
      "Epoch 45/70\n",
      "239/240 [============================>.] - ETA: 0s - loss: 0.0210 - accuracy: 0.9906\n",
      "Epoch 45: val_accuracy did not improve from 0.86902\n",
      "240/240 [==============================] - 17s 72ms/step - loss: 0.0210 - accuracy: 0.9906 - val_loss: 0.8717 - val_accuracy: 0.8569\n",
      "Epoch 46/70\n",
      "240/240 [==============================] - ETA: 0s - loss: 0.0248 - accuracy: 0.9885\n",
      "Epoch 46: val_accuracy did not improve from 0.86902\n",
      "240/240 [==============================] - 16s 67ms/step - loss: 0.0248 - accuracy: 0.9885 - val_loss: 0.8122 - val_accuracy: 0.8510\n",
      "Epoch 47/70\n",
      "240/240 [==============================] - ETA: 0s - loss: 0.0236 - accuracy: 0.9888\n",
      "Epoch 47: val_accuracy did not improve from 0.86902\n",
      "240/240 [==============================] - 16s 67ms/step - loss: 0.0236 - accuracy: 0.9888 - val_loss: 0.8665 - val_accuracy: 0.8494\n",
      "Epoch 48/70\n",
      "240/240 [==============================] - ETA: 0s - loss: 0.0232 - accuracy: 0.9894\n",
      "Epoch 48: val_accuracy did not improve from 0.86902\n",
      "240/240 [==============================] - 14s 58ms/step - loss: 0.0232 - accuracy: 0.9894 - val_loss: 0.8798 - val_accuracy: 0.8522\n",
      "Epoch 49/70\n",
      "239/240 [============================>.] - ETA: 0s - loss: 0.0212 - accuracy: 0.9902\n",
      "Epoch 49: val_accuracy did not improve from 0.86902\n",
      "240/240 [==============================] - 17s 71ms/step - loss: 0.0212 - accuracy: 0.9902 - val_loss: 0.8655 - val_accuracy: 0.8533\n",
      "Epoch 50/70\n",
      "240/240 [==============================] - ETA: 0s - loss: 0.0252 - accuracy: 0.9889\n",
      "Epoch 50: val_accuracy did not improve from 0.86902\n",
      "240/240 [==============================] - 15s 64ms/step - loss: 0.0252 - accuracy: 0.9889 - val_loss: 0.8274 - val_accuracy: 0.8522\n",
      "Epoch 51/70\n",
      "239/240 [============================>.] - ETA: 0s - loss: 0.0202 - accuracy: 0.9905\n",
      "Epoch 51: val_accuracy did not improve from 0.86902\n",
      "240/240 [==============================] - 16s 66ms/step - loss: 0.0202 - accuracy: 0.9905 - val_loss: 0.8233 - val_accuracy: 0.8514\n",
      "Epoch 52/70\n",
      "240/240 [==============================] - ETA: 0s - loss: 0.0223 - accuracy: 0.9902\n",
      "Epoch 52: val_accuracy did not improve from 0.86902\n",
      "240/240 [==============================] - 14s 57ms/step - loss: 0.0223 - accuracy: 0.9902 - val_loss: 0.8625 - val_accuracy: 0.8471\n",
      "Epoch 53/70\n",
      "240/240 [==============================] - ETA: 0s - loss: 0.0210 - accuracy: 0.9903\n",
      "Epoch 53: val_accuracy did not improve from 0.86902\n",
      "240/240 [==============================] - 14s 59ms/step - loss: 0.0210 - accuracy: 0.9903 - val_loss: 0.8519 - val_accuracy: 0.8490\n",
      "Epoch 54/70\n",
      "239/240 [============================>.] - ETA: 0s - loss: 0.0212 - accuracy: 0.9899\n",
      "Epoch 54: val_accuracy did not improve from 0.86902\n",
      "240/240 [==============================] - 15s 61ms/step - loss: 0.0212 - accuracy: 0.9899 - val_loss: 0.8441 - val_accuracy: 0.8490\n",
      "Epoch 55/70\n",
      "239/240 [============================>.] - ETA: 0s - loss: 0.0219 - accuracy: 0.9910\n",
      "Epoch 55: val_accuracy did not improve from 0.86902\n",
      "240/240 [==============================] - 14s 56ms/step - loss: 0.0219 - accuracy: 0.9910 - val_loss: 0.9079 - val_accuracy: 0.8498\n",
      "Epoch 56/70\n",
      "239/240 [============================>.] - ETA: 0s - loss: 0.0233 - accuracy: 0.9893\n",
      "Epoch 56: val_accuracy did not improve from 0.86902\n",
      "240/240 [==============================] - 14s 59ms/step - loss: 0.0233 - accuracy: 0.9893 - val_loss: 0.8759 - val_accuracy: 0.8459\n",
      "Epoch 57/70\n",
      "239/240 [============================>.] - ETA: 0s - loss: 0.0228 - accuracy: 0.9897\n",
      "Epoch 57: val_accuracy did not improve from 0.86902\n",
      "240/240 [==============================] - 13s 53ms/step - loss: 0.0228 - accuracy: 0.9897 - val_loss: 0.8627 - val_accuracy: 0.8510\n",
      "Epoch 58/70\n",
      "239/240 [============================>.] - ETA: 0s - loss: 0.0205 - accuracy: 0.9905\n",
      "Epoch 58: val_accuracy did not improve from 0.86902\n",
      "240/240 [==============================] - 13s 53ms/step - loss: 0.0205 - accuracy: 0.9905 - val_loss: 0.8966 - val_accuracy: 0.8482\n",
      "Epoch 59/70\n",
      "239/240 [============================>.] - ETA: 0s - loss: 0.0198 - accuracy: 0.9888\n",
      "Epoch 59: val_accuracy did not improve from 0.86902\n",
      "240/240 [==============================] - 13s 53ms/step - loss: 0.0198 - accuracy: 0.9888 - val_loss: 0.8870 - val_accuracy: 0.8525\n",
      "Epoch 60/70\n",
      "239/240 [============================>.] - ETA: 0s - loss: 0.0177 - accuracy: 0.9919\n",
      "Epoch 60: val_accuracy did not improve from 0.86902\n",
      "240/240 [==============================] - 13s 53ms/step - loss: 0.0177 - accuracy: 0.9919 - val_loss: 0.9216 - val_accuracy: 0.8518\n",
      "Epoch 61/70\n",
      "239/240 [============================>.] - ETA: 0s - loss: 0.0212 - accuracy: 0.9907\n",
      "Epoch 61: val_accuracy did not improve from 0.86902\n",
      "240/240 [==============================] - 13s 53ms/step - loss: 0.0211 - accuracy: 0.9907 - val_loss: 0.8570 - val_accuracy: 0.8518\n",
      "Epoch 62/70\n",
      "240/240 [==============================] - ETA: 0s - loss: 0.0209 - accuracy: 0.9895\n",
      "Epoch 62: val_accuracy did not improve from 0.86902\n",
      "240/240 [==============================] - 14s 57ms/step - loss: 0.0209 - accuracy: 0.9895 - val_loss: 0.8899 - val_accuracy: 0.8475\n",
      "Epoch 63/70\n",
      "240/240 [==============================] - ETA: 0s - loss: 0.0200 - accuracy: 0.9907\n",
      "Epoch 63: val_accuracy did not improve from 0.86902\n",
      "240/240 [==============================] - 22s 91ms/step - loss: 0.0200 - accuracy: 0.9907 - val_loss: 0.8672 - val_accuracy: 0.8478\n",
      "Epoch 64/70\n",
      "240/240 [==============================] - ETA: 0s - loss: 0.0201 - accuracy: 0.9908\n",
      "Epoch 64: val_accuracy did not improve from 0.86902\n",
      "240/240 [==============================] - 14s 57ms/step - loss: 0.0201 - accuracy: 0.9908 - val_loss: 0.9071 - val_accuracy: 0.8467\n",
      "Epoch 65/70\n",
      "240/240 [==============================] - ETA: 0s - loss: 0.0207 - accuracy: 0.9903\n",
      "Epoch 65: val_accuracy did not improve from 0.86902\n",
      "240/240 [==============================] - 13s 55ms/step - loss: 0.0207 - accuracy: 0.9903 - val_loss: 0.9108 - val_accuracy: 0.8475\n",
      "Epoch 66/70\n",
      "240/240 [==============================] - ETA: 0s - loss: 0.0200 - accuracy: 0.9910\n",
      "Epoch 66: val_accuracy did not improve from 0.86902\n",
      "240/240 [==============================] - 15s 63ms/step - loss: 0.0200 - accuracy: 0.9910 - val_loss: 0.9202 - val_accuracy: 0.8482\n",
      "Epoch 67/70\n",
      "240/240 [==============================] - ETA: 0s - loss: 0.0219 - accuracy: 0.9890\n",
      "Epoch 67: val_accuracy did not improve from 0.86902\n",
      "240/240 [==============================] - 14s 60ms/step - loss: 0.0219 - accuracy: 0.9890 - val_loss: 0.8857 - val_accuracy: 0.8455\n",
      "Epoch 68/70\n",
      "240/240 [==============================] - ETA: 0s - loss: 0.0186 - accuracy: 0.9910\n",
      "Epoch 68: val_accuracy did not improve from 0.86902\n",
      "240/240 [==============================] - 13s 53ms/step - loss: 0.0186 - accuracy: 0.9910 - val_loss: 0.9323 - val_accuracy: 0.8482\n",
      "Epoch 69/70\n",
      "239/240 [============================>.] - ETA: 0s - loss: 0.0192 - accuracy: 0.9914\n",
      "Epoch 69: val_accuracy did not improve from 0.86902\n",
      "240/240 [==============================] - 12s 51ms/step - loss: 0.0192 - accuracy: 0.9914 - val_loss: 0.9132 - val_accuracy: 0.8475\n",
      "Epoch 70/70\n",
      "239/240 [============================>.] - ETA: 0s - loss: 0.0197 - accuracy: 0.9899\n",
      "Epoch 70: val_accuracy did not improve from 0.86902\n",
      "240/240 [==============================] - 12s 49ms/step - loss: 0.0197 - accuracy: 0.9899 - val_loss: 0.9341 - val_accuracy: 0.8478\n"
     ]
    }
   ],
   "source": [
    "model1 = Sequential()\n",
    "model1.add(layers.Embedding(max_words, 20))\n",
    "model1.add(layers.LSTM(15,dropout=0.5))\n",
    "model1.add(layers.Dense(3,activation='softmax'))\n",
    "\n",
    "\n",
    "model1.compile(optimizer='adam',loss='categorical_crossentropy', metrics=['accuracy'])\n",
    "#Implementing model checkpoins to save the best metric and do not lose it on training.\n",
    "checkpoint1 = ModelCheckpoint(\"best_model1.hdf5\", monitor='val_accuracy', verbose=1,save_best_only=True, mode='auto', period=1,save_weights_only=False)\n",
    "history = model1.fit(X_train_token, y_train_token, epochs=70,validation_data=(X_test_token, y_test_token),callbacks=[checkpoint1])\n",
    "model1.save('models/LSTMmodel.h5')"
   ]
  },
  {
   "attachments": {},
   "cell_type": "markdown",
   "metadata": {},
   "source": [
    "## ANN"
   ]
  },
  {
   "cell_type": "code",
   "execution_count": 25,
   "metadata": {},
   "outputs": [
    {
     "name": "stdout",
     "output_type": "stream",
     "text": [
      "Iteration 1, loss = 1.94635042\n",
      "Validation score: 0.454902\n",
      "Iteration 2, loss = 0.96195108\n",
      "Validation score: 0.840523\n",
      "Iteration 3, loss = 0.31333463\n",
      "Validation score: 0.852288\n",
      "Iteration 4, loss = 0.13787652\n",
      "Validation score: 0.847059\n",
      "Iteration 5, loss = 0.08077823\n",
      "Validation score: 0.837908\n",
      "Iteration 6, loss = 0.05662197\n",
      "Validation score: 0.832680\n",
      "Iteration 7, loss = 0.04618218\n",
      "Validation score: 0.847059\n",
      "Iteration 8, loss = 0.03764150\n",
      "Validation score: 0.824837\n",
      "Iteration 9, loss = 0.03639285\n",
      "Validation score: 0.836601\n",
      "Iteration 10, loss = 0.03694461\n",
      "Validation score: 0.836601\n",
      "Iteration 11, loss = 0.03570344\n",
      "Validation score: 0.832680\n",
      "Iteration 12, loss = 0.03162549\n",
      "Validation score: 0.833987\n",
      "Iteration 13, loss = 0.02976242\n",
      "Validation score: 0.831373\n",
      "Iteration 14, loss = 0.02850119\n",
      "Validation score: 0.831373\n",
      "Validation score did not improve more than tol=0.000100 for 10 consecutive epochs. Stopping.\n"
     ]
    }
   ],
   "source": [
    "from sklearn.neural_network import MLPClassifier\n",
    "import pickle\n",
    "\n",
    "clf = MLPClassifier(hidden_layer_sizes=(256,128,64,32), activation=\"relu\",random_state=1, solver='adam', alpha=1e-5, early_stopping=True, max_iter=1000, verbose=True)\n",
    "clf.fit(X_train_transf,y_train_transf)\n",
    "\n",
    "pkl_filename = \"models/ANNmodel.pkl\"\n",
    "with open(pkl_filename, 'wb') as file:\n",
    "    pickle.dump(clf, file) "
   ]
  },
  {
   "cell_type": "code",
   "execution_count": 54,
   "metadata": {},
   "outputs": [
    {
     "name": "stdout",
     "output_type": "stream",
     "text": [
      "neutral\n"
     ]
    }
   ],
   "source": [
    "y_pred=clf.predict(X_test_transf)\n",
    "y_pred"
   ]
  },
  {
   "cell_type": "markdown",
   "metadata": {},
   "source": [
    "# Validation"
   ]
  },
  {
   "cell_type": "code",
   "execution_count": 59,
   "metadata": {},
   "outputs": [],
   "source": [
    "import numpy as np\n",
    "import keras\n",
    "from sklearn.metrics import confusion_matrix"
   ]
  },
  {
   "cell_type": "markdown",
   "metadata": {},
   "source": [
    "## LSTM"
   ]
  },
  {
   "cell_type": "code",
   "execution_count": 70,
   "metadata": {},
   "outputs": [],
   "source": [
    "best_model = keras.models.load_model(\"models/LSTMmodel.h5\")"
   ]
  },
  {
   "cell_type": "code",
   "execution_count": 71,
   "metadata": {},
   "outputs": [
    {
     "name": "stdout",
     "output_type": "stream",
     "text": [
      "80/80 - 2s - loss: 0.3560 - accuracy: 0.8843 - 2s/epoch - 29ms/step\n",
      "Model accuracy:  0.884313702583313\n"
     ]
    }
   ],
   "source": [
    "test_loss, test_acc = best_model.evaluate(X_test_token, y_test_token, verbose=2)\n",
    "print('Model accuracy: ',test_acc)"
   ]
  },
  {
   "cell_type": "code",
   "execution_count": 72,
   "metadata": {},
   "outputs": [
    {
     "name": "stdout",
     "output_type": "stream",
     "text": [
      "80/80 [==============================] - 3s 24ms/step\n"
     ]
    }
   ],
   "source": [
    "predictions = best_model.predict(X_test_token)"
   ]
  },
  {
   "cell_type": "code",
   "execution_count": 73,
   "metadata": {},
   "outputs": [],
   "source": [
    "matrix = confusion_matrix(y_test_token.argmax(axis=1), np.around(predictions, decimals=0).argmax(axis=1))"
   ]
  },
  {
   "cell_type": "code",
   "execution_count": 74,
   "metadata": {},
   "outputs": [
    {
     "name": "stderr",
     "output_type": "stream",
     "text": [
      "C:\\Users\\ansha\\AppData\\Local\\Temp/ipykernel_21808/3444368053.py:3: FutureWarning: Support for multi-dimensional indexing (e.g. `obj[:, None]`) is deprecated and will be removed in a future version.  Convert to a numpy array before indexing instead.\n",
      "  conf_matrix = conf_matrix.astype('float') / conf_matrix.sum(axis=1)[:, np.newaxis]\n"
     ]
    },
    {
     "data": {
      "text/plain": [
       "<AxesSubplot:>"
      ]
     },
     "execution_count": 74,
     "metadata": {},
     "output_type": "execute_result"
    },
    {
     "data": {
      "image/png": "[encoded data removed]",
      "text/plain": [
       "<Figure size 1080x1080 with 2 Axes>"
      ]
     },
     "metadata": {
      "needs_background": "light"
     },
     "output_type": "display_data"
    }
   ],
   "source": [
    "conf_matrix = pd.DataFrame(matrix, index = ['Neutral','Negative','Positive'],columns = ['Neutral','Negative','Positive'])\n",
    "#Normalizing\n",
    "conf_matrix = conf_matrix.astype('float') / conf_matrix.sum(axis=1)[:, np.newaxis]\n",
    "plt.figure(figsize = (15,15))\n",
    "sns.heatmap(conf_matrix, annot=True, annot_kws={\"size\": 15})"
   ]
  },
  {
   "cell_type": "code",
   "execution_count": 104,
   "metadata": {},
   "outputs": [],
   "source": [
    "label = ['neutral', 'positive', 'negative']"
   ]
  },
  {
   "cell_type": "code",
   "execution_count": 107,
   "metadata": {},
   "outputs": [
    {
     "name": "stdout",
     "output_type": "stream",
     "text": [
      "1/1 [==============================] - 0s 60ms/step\n"
     ]
    },
    {
     "data": {
      "text/plain": [
       "'positive'"
      ]
     },
     "execution_count": 107,
     "metadata": {},
     "output_type": "execute_result"
    }
   ],
   "source": [
    "sequence = tokenizer.texts_to_sequences(['makanan disini enak banget dan harga nya murah murah'])\n",
    "test = pad_sequences(sequence, maxlen=max_len)\n",
    "label[np.around(best_model.predict(test), decimals=0).argmax(axis=1)[0]]"
   ]
  },
  {
   "attachments": {},
   "cell_type": "markdown",
   "metadata": {},
   "source": [
    "## ANN"
   ]
  },
  {
   "cell_type": "code",
   "execution_count": 51,
   "metadata": {},
   "outputs": [
    {
     "data": {
      "text/plain": [
       "0.914640522875817"
      ]
     },
     "execution_count": 51,
     "metadata": {},
     "output_type": "execute_result"
    }
   ],
   "source": [
    "import numpy as np\n",
    "np.mean(y_pred == y_test_transf)"
   ]
  },
  {
   "cell_type": "code",
   "execution_count": 52,
   "metadata": {},
   "outputs": [
    {
     "name": "stdout",
     "output_type": "stream",
     "text": [
      "              precision    recall  f1-score   support\n",
      "\n",
      "           0       0.94      0.91      0.93       881\n",
      "           1       0.86      0.86      0.86       839\n",
      "           2       0.84      0.80      0.82       830\n",
      "\n",
      "   micro avg       0.88      0.86      0.87      2550\n",
      "   macro avg       0.88      0.86      0.87      2550\n",
      "weighted avg       0.88      0.86      0.87      2550\n",
      " samples avg       0.85      0.86      0.86      2550\n",
      "\n"
     ]
    },
    {
     "name": "stderr",
     "output_type": "stream",
     "text": [
      "c:\\ProgramData\\Anaconda3\\lib\\site-packages\\sklearn\\metrics\\_classification.py:1334: UndefinedMetricWarning: Precision and F-score are ill-defined and being set to 0.0 in samples with no predicted labels. Use `zero_division` parameter to control this behavior.\n",
      "  _warn_prf(average, modifier, msg_start, len(result))\n"
     ]
    }
   ],
   "source": [
    "from sklearn.metrics import classification_report\n",
    "\n",
    "print(classification_report(y_test_transf, y_pred))"
   ]
  }
 ],
 "metadata": {
  "kernelspec": {
   "display_name": "binar-platinum",
   "language": "python",
   "name": "python3"
  },
  "language_info": {
   "codemirror_mode": {
    "name": "ipython",
    "version": 3
   },
   "file_extension": ".py",
   "mimetype": "text/x-python",
   "name": "python",
   "nbconvert_exporter": "python",
   "pygments_lexer": "ipython3",
   "version": "3.9.15 (main, Nov 24 2022, 14:39:17) [MSC v.1916 64 bit (AMD64)]"
  },
  "orig_nbformat": 4,
  "vscode": {
   "interpreter": {
    "hash": "db4ff88cc76be81058deeb6a297d780e9952340fc8904a6fb17d0c57853df088"
   }
  }
 },
 "nbformat": 4,
 "nbformat_minor": 2
}
